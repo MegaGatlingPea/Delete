{
 "cells": [
  {
   "cell_type": "code",
   "execution_count": null,
   "metadata": {},
   "outputs": [],
   "source": [
    "import sys\n",
    "sys.path.append('/home/haotian/molecules_confs/Protein_test/SurfBP')\n",
    "from dataset.masif.generate_prot_ply import compute_inp_surface\n",
    "import os.path as osp\n",
    "from glob import glob\n",
    "import multiprocessing\n",
    "import numpy as np\n",
    "import os \n",
    "from tqdm import tqdm\n",
    "import copy\n",
    "from rdkit import Chem\n",
    "def set_mol_positions(mol, pos):\n",
    "    mol = copy.deepcopy(mol)\n",
    "    for i in range(pos.shape[0]):\n",
    "        mol.GetConformer(0).SetAtomPosition(i, pos[i].tolist())\n",
    "    return mol \n",
    "\n",
    "def read_sdf(sdf_file, sanitize=False):\n",
    "    supp = Chem.SDMolSupplier(sdf_file, sanitize=sanitize)\n",
    "    mols_list = [i for i in supp]\n",
    "    return mols_list\n",
    "\n",
    "def write_sdf(mol_list,file):\n",
    "    writer = Chem.SDWriter(file)\n",
    "    for i in mol_list:\n",
    "        writer.write(i)\n",
    "    writer.close()\n"
   ]
  },
  {
   "cell_type": "code",
   "execution_count": null,
   "metadata": {},
   "outputs": [],
   "source": [
    "all = len(glob('/home/haotian/molecules_confs/Protein_test/SurfGen/data/linker/protein/all_pdb/*.pdb'))\n",
    "generated_num = len(glob('/home/haotian/molecules_confs/Protein_test/SurfGen/data/linker/protein/surf_all/*'))\n",
    "print('Progress',generated_num*100 / all, '%', '|| Generated',generated_num)"
   ]
  },
  {
   "cell_type": "code",
   "execution_count": null,
   "metadata": {},
   "outputs": [],
   "source": [
    "pdbfiles[0].split('/')[-1][:-8]"
   ]
  },
  {
   "cell_type": "code",
   "execution_count": null,
   "metadata": {},
   "outputs": [],
   "source": [
    "mols = read_sdf('/home/haotian/molecules_confs/Protein_test/SurfGen/data/linker/protein/MOAD_test_mol.sdf')"
   ]
  },
  {
   "cell_type": "code",
   "execution_count": null,
   "metadata": {},
   "outputs": [],
   "source": [
    "pdb_dir = '/home/haotian/molecules_confs/Protein_test/SurfGen/data/linker/protein/test_pdb'\n",
    "for mol in tqdm(mols):\n",
    "    mol_name = mol.GetProp('_Name')\n",
    "    sdf_path = osp.join(pdb_dir, mol_name+'.sdf')\n",
    "    write_sdf([mol],sdf_path)"
   ]
  },
  {
   "cell_type": "code",
   "execution_count": null,
   "metadata": {},
   "outputs": [],
   "source": [
    "all_pdb = glob('/home/haotian/molecules_confs/Protein_test/SurfGen/data/linker/protein/all_pdb/*.pdb')"
   ]
  },
  {
   "cell_type": "code",
   "execution_count": null,
   "metadata": {},
   "outputs": [],
   "source": [
    "for pdbfile in all_pdb:\n",
    "    if mols[0].GetProp('_Name') +'_15A.pdb' in pdbfile:\n",
    "        print('yes')"
   ]
  },
  {
   "cell_type": "code",
   "execution_count": null,
   "metadata": {},
   "outputs": [],
   "source": [
    "pdb_dir = '/home/haotian/molecules_confs/Protein_test/SurfGen/data/linker/protein/all_pdb'\n",
    "pdbfile = osp.join(pdb_dir, mols[0].GetProp('_Name') +'_15A.pdb')\n",
    "osp.exists(pdbfile)"
   ]
  },
  {
   "cell_type": "code",
   "execution_count": null,
   "metadata": {},
   "outputs": [],
   "source": [
    "out_dir = '/home/haotian/molecules_confs/Protein_test/SurfGen/data/linker/protein/surf_test'\n",
    "pdb_dir = '/home/haotian/molecules_confs/Protein_test/SurfGen/data/linker/protein/test_pdb'\n",
    "pdbfiles = np.sort(glob(pdb_dir+'/*.pdb'))\n",
    "fail_list = []\n",
    "\n",
    "def gen_ply_file(i):\n",
    "    pkt_file = pdbfiles[i]\n",
    "    out_name = pkt_file.split('/')[-1][:-8] #'1a4k_0'\n",
    "    sdf_file = osp.join(pdb_dir, out_name + '.sdf')\n",
    "    ply_file = \"%s/%s_pocket_%s_res_%s.ply\"%(out_dir, out_name, 8.0, 1.5)\n",
    "    if osp.isfile(ply_file):\n",
    "        return \n",
    "    try:\n",
    "        compute_inp_surface(pkt_file, sdf_file, out_dir, out_name=out_name, mesh_res=1.5,dist_threshold=8.0)\n",
    "        return\n",
    "    except: \n",
    "        print('Generate featured surface failed!{}'.format(i))\n",
    "        fail_list.append(i)\n",
    "        return i\n"
   ]
  },
  {
   "cell_type": "code",
   "execution_count": null,
   "metadata": {},
   "outputs": [],
   "source": [
    "len(glob('/home/haotian/molecules_confs/Protein_test/SurfGen/data/linker/protein/test_pdb/*'))"
   ]
  },
  {
   "cell_type": "code",
   "execution_count": null,
   "metadata": {},
   "outputs": [],
   "source": [
    "from tqdm import tqdm\n",
    "fail_list = []\n",
    "pool = multiprocessing.Pool(5)\n",
    "for result in tqdm(pool.imap(gen_ply_file, range(len(pdbfiles))), total=len(pdbfiles)):\n",
    "    if result is not None:\n",
    "        fail_list.append(result)\n",
    "pool.close()\n",
    "pool.join()"
   ]
  }
 ],
 "metadata": {
  "kernelspec": {
   "display_name": "Python 3.7.12 ('deepdock2')",
   "language": "python",
   "name": "python3"
  },
  "language_info": {
   "codemirror_mode": {
    "name": "ipython",
    "version": 3
   },
   "file_extension": ".py",
   "mimetype": "text/x-python",
   "name": "python",
   "nbconvert_exporter": "python",
   "pygments_lexer": "ipython3",
   "version": "3.7.12"
  },
  "orig_nbformat": 4,
  "vscode": {
   "interpreter": {
    "hash": "9b4e87248d4b3df031e006d1bbb922d486bf17edf90133ae6497a11501c5068f"
   }
  }
 },
 "nbformat": 4,
 "nbformat_minor": 2
}
